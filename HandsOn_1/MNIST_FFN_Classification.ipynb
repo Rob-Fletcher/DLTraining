{
 "cells": [
  {
   "cell_type": "markdown",
   "metadata": {},
   "source": [
    "# Hands-on Neural Network for Classifying Handwritten Digits\n",
    "\n",
    "The data set we will be using is called [MNIST](http://yann.lecun.com/exdb/mnist/). It was create by Yann Lecun and is considered to be the \"hello world\" of datasets for deep learning. \n",
    "\n",
    "MNIST consists of 28x28 pixel images of hand written digis.\n",
    "\n",
    "<center> <img src=\"img/mnist.png\" width=\"300\"/>  </center>\n",
    "\n",
    "<br/>\n",
    "\n",
    "We are going to create a feed forward neural network to classify the digits. This will be a simple network composed of linear layers and activations."
   ]
  },
  {
   "cell_type": "code",
   "execution_count": 1,
   "metadata": {},
   "outputs": [],
   "source": [
    "import torch\n",
    "import torchvision\n",
    "\n",
    "import matplotlib.pyplot as plt\n",
    "%matplotlib inline"
   ]
  },
  {
   "cell_type": "markdown",
   "metadata": {},
   "source": [
    "## Create Transforms\n",
    "\n",
    "When we get the dataset, we will be given tuples that look like:\n",
    "\n",
    "        (PIL image, label)\n",
    "\n",
    "We will need to apply a transform to each image loaded to convert it to a tensor. This can be done using a library included with Pytorch called TorchVision. This library contains datasets, helper functions, transforms, and even whole neural networks that can all be loaded easily.\n",
    "\n",
    "We will use the transform `ToTensor()` which will convert each image to a tensor that we can use in our model."
   ]
  },
  {
   "cell_type": "code",
   "execution_count": 2,
   "metadata": {},
   "outputs": [],
   "source": [
    "xforms = torchvision.transforms.Compose([torchvision.transforms.ToTensor()])  # Try with no normalization for now"
   ]
  },
  {
   "cell_type": "code",
   "execution_count": 3,
   "metadata": {},
   "outputs": [],
   "source": [
    "train_data = torchvision.datasets.MNIST(root='./data', train=True, download=True, transform=xforms)\n",
    "test_data = torchvision.datasets.MNIST(root='./data', train=False, transform=xforms)"
   ]
  },
  {
   "cell_type": "code",
   "execution_count": 4,
   "metadata": {},
   "outputs": [],
   "source": [
    "batch_size=64\n",
    "train_loader = torch.utils.data.DataLoader(train_data,\n",
    "                                          batch_size=batch_size,\n",
    "                                          shuffle=True)\n",
    "test_loader = torch.utils.data.DataLoader(test_data,\n",
    "                                          batch_size=1,\n",
    "                                          shuffle=True)"
   ]
  },
  {
   "cell_type": "markdown",
   "metadata": {},
   "source": [
    "## Lets take a look at the data\n",
    "\n",
    "Pytorch data loaders are a convenient way to get tensors into your model with very little manual work. Custom datasets are very easy to define if you are using data that doesnt fit well into one of the predefined classes.\n",
    "\n",
    "The dataloaders defined above work just like an iterator. We can get an item from it by calling `next(iter(loader))`. When accessing all of the data we simply have to loop over the dataloader `for data, label in dataloader:`.\n",
    "\n",
    "Lets take a look at how the dataloader returns data to us. For the MNIST dataset (and most imagery data) it returns a tuple where the first element is a  tensor with the shape [batch, channels, height, width], and the second element is the label (in this case an integer)."
   ]
  },
  {
   "cell_type": "code",
   "execution_count": 5,
   "metadata": {},
   "outputs": [
    {
     "name": "stdout",
     "output_type": "stream",
     "text": [
      "torch.Size([64, 1, 28, 28])\n",
      "torch.Size([64])\n"
     ]
    }
   ],
   "source": [
    "d = next(iter(train_loader))\n",
    "print(d[0].shape) # the data\n",
    "print(d[1].shape) # the labels"
   ]
  },
  {
   "cell_type": "code",
   "execution_count": 6,
   "metadata": {},
   "outputs": [
    {
     "data": {
      "text/plain": [
       "tensor([7, 8, 8, 3, 4, 6, 8, 1, 9, 8, 1, 9, 8, 9, 5, 4, 3, 2, 8, 8, 7, 4, 4, 9,\n",
       "        4, 8, 1, 1, 9, 8, 7, 2, 5, 8, 2, 9, 5, 9, 0, 7, 4, 4, 7, 9, 8, 9, 3, 7,\n",
       "        2, 0, 7, 9, 4, 0, 6, 3, 9, 9, 7, 9, 0, 3, 0, 6])"
      ]
     },
     "execution_count": 6,
     "metadata": {},
     "output_type": "execute_result"
    }
   ],
   "source": [
    "d[1]"
   ]
  },
  {
   "cell_type": "code",
   "execution_count": 7,
   "metadata": {},
   "outputs": [
    {
     "data": {
      "text/plain": [
       "<matplotlib.image.AxesImage at 0x122fef0d0>"
      ]
     },
     "execution_count": 7,
     "metadata": {},
     "output_type": "execute_result"
    },
    {
     "data": {
      "image/png": "[encoded data removed]",
      "text/plain": [
       "<Figure size 432x288 with 1 Axes>"
      ]
     },
     "metadata": {
      "needs_background": "light"
     },
     "output_type": "display_data"
    }
   ],
   "source": [
    "plt.imshow(d[0][0].squeeze().numpy())"
   ]
  },
  {
   "cell_type": "markdown",
   "metadata": {},
   "source": [
    "## Defining our Classification Model"
   ]
  },
  {
   "cell_type": "code",
   "execution_count": 8,
   "metadata": {},
   "outputs": [],
   "source": [
    "class Net(torch.nn.Module):\n",
    "    def __init__(self):\n",
    "        super(Net, self).__init__()\n",
    "        \n",
    "        self.layers = torch.nn.Sequential(\n",
    "                            torch.nn.Linear(in_features=784, out_features=128),\n",
    "                            torch.nn.ReLU(),\n",
    "                            torch.nn.Linear(in_features=128, out_features=64),\n",
    "                            torch.nn.ReLU(),\n",
    "                            torch.nn.Linear(in_features=64, out_features=10),\n",
    "                            torch.nn.Softmax(dim=1)\n",
    "                        )\n",
    "    \n",
    "    def forward(self, x):\n",
    "        return self.layers(x)"
   ]
  },
  {
   "cell_type": "code",
   "execution_count": 9,
   "metadata": {},
   "outputs": [],
   "source": [
    "model = Net()"
   ]
  },
  {
   "cell_type": "markdown",
   "metadata": {},
   "source": [
    "## Setup the Optimizer\n",
    "\n",
    "We will be using the Adam optimizer."
   ]
  },
  {
   "cell_type": "code",
   "execution_count": 10,
   "metadata": {},
   "outputs": [],
   "source": [
    "optimizer = torch.optim.Adam(model.parameters(), lr=0.003)"
   ]
  },
  {
   "cell_type": "markdown",
   "metadata": {},
   "source": [
    "## Setup the Loss function\n",
    "\n",
    "For classification problems in general you will use the cross entropy loss."
   ]
  },
  {
   "cell_type": "code",
   "execution_count": 11,
   "metadata": {},
   "outputs": [],
   "source": [
    "criterion = torch.nn.CrossEntropyLoss()"
   ]
  },
  {
   "cell_type": "markdown",
   "metadata": {},
   "source": [
    "## Run the training loop"
   ]
  },
  {
   "cell_type": "code",
   "execution_count": 12,
   "metadata": {},
   "outputs": [
    {
     "name": "stdout",
     "output_type": "stream",
     "text": [
      "Epoch 0 - loss: 1.5748772943960323\n",
      "Epoch 1 - loss: 1.5153985130253123\n",
      "Epoch 2 - loss: 1.5063964771563565\n",
      "Epoch 3 - loss: 1.5000071858546373\n",
      "Epoch 4 - loss: 1.4980867296647924\n",
      "Epoch 5 - loss: 1.496187745253923\n",
      "Epoch 6 - loss: 1.4945135807940193\n",
      "Epoch 7 - loss: 1.4962206297337628\n",
      "Epoch 8 - loss: 1.494236725606898\n",
      "Epoch 9 - loss: 1.4944588164530836\n",
      "Epoch 10 - loss: 1.4920548027766538\n",
      "Epoch 11 - loss: 1.4932545969989508\n",
      "Epoch 12 - loss: 1.491058767096066\n",
      "Epoch 13 - loss: 1.4916964136461206\n",
      "Epoch 14 - loss: 1.4896302983196559\n"
     ]
    }
   ],
   "source": [
    "epochs = 25\n",
    "loss_history = []\n",
    "for epoch in range(epochs):\n",
    "    epoch_loss = 0\n",
    "    for data, labels in train_loader:\n",
    "        # Flatten the tensors to go from 28x28 -> 784\n",
    "        flat_data = data.view(data.shape[0], -1)\n",
    "        \n",
    "        optimizer.zero_grad()\n",
    "        pred = model(flat_data)\n",
    "        loss = criterion(pred, labels)\n",
    "        loss.backward()\n",
    "        optimizer.step()\n",
    "        epoch_loss += loss.item()\n",
    "    loss_history.append(epoch_loss/len(train_loader))    \n",
    "    print(f\"Epoch {epoch} - loss: {epoch_loss/len(train_loader)}\")"
   ]
  },
  {
   "cell_type": "code",
   "execution_count": 13,
   "metadata": {},
   "outputs": [
    {
     "data": {
      "text/plain": [
       "[<matplotlib.lines.Line2D at 0x122f20190>]"
      ]
     },
     "execution_count": 13,
     "metadata": {},
     "output_type": "execute_result"
    },
    {
     "data": {
      "image/png": "[encoded data removed]",
      "text/plain": [
       "<Figure size 432x288 with 1 Axes>"
      ]
     },
     "metadata": {
      "needs_background": "light"
     },
     "output_type": "display_data"
    }
   ],
   "source": [
    "plt.plot(loss_history)"
   ]
  },
  {
   "cell_type": "code",
   "execution_count": 14,
   "metadata": {},
   "outputs": [
    {
     "name": "stdout",
     "output_type": "stream",
     "text": [
      "Actual Class: 7    Predicted Class: 7\n"
     ]
    }
   ],
   "source": [
    "img, label = next(iter(test_loader))\n",
    "\n",
    "flat_img = img[0].view(1,784)\n",
    "with torch.no_grad():\n",
    "    pred = list(model(flat_img).numpy()[0])\n",
    "    print(f\"Actual Class: {label[0].item()}    Predicted Class: {pred.index(max(pred))}\")"
   ]
  },
  {
   "cell_type": "code",
   "execution_count": 15,
   "metadata": {},
   "outputs": [
    {
     "name": "stdout",
     "output_type": "stream",
     "text": [
      "Number Of Images Tested = 10000\n",
      "\n",
      "Model Accuracy = 0.9668\n"
     ]
    }
   ],
   "source": [
    "correct_count, all_count = 0, 0\n",
    "for image,label in test_loader:\n",
    "    img = image.view(1, 784)\n",
    "    with torch.no_grad():\n",
    "        prob = list(model(img).numpy()[0])\n",
    "\n",
    "    pred_label = prob.index(max(prob))\n",
    "    true_label = label.numpy()\n",
    "    if(true_label == pred_label):\n",
    "      correct_count += 1\n",
    "    all_count += 1\n",
    "\n",
    "print(\"Number Of Images Tested =\", all_count)\n",
    "print(\"\\nModel Accuracy =\", (correct_count/all_count))"
   ]
  },
  {
   "cell_type": "code",
   "execution_count": null,
   "metadata": {},
   "outputs": [],
   "source": []
  }
 ],
 "metadata": {
  "kernelspec": {
   "display_name": "Python 3",
   "language": "python",
   "name": "python3"
  },
  "language_info": {
   "codemirror_mode": {
    "name": "ipython",
    "version": 3
   },
   "file_extension": ".py",
   "mimetype": "text/x-python",
   "name": "python",
   "nbconvert_exporter": "python",
   "pygments_lexer": "ipython3",
   "version": "3.7.4"
  }
 },
 "nbformat": 4,
 "nbformat_minor": 2
}
