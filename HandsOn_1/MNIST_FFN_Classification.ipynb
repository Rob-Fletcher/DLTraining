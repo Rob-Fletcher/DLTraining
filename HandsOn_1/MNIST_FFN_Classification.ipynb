{
 "cells": [
  {
   "cell_type": "markdown",
   "metadata": {},
   "source": [
    "# Hands-on Neural Network for Classifying Handwritten Digits\n",
    "\n",
    "The data set we will be using is called [MNIST](http://yann.lecun.com/exdb/mnist/). It was create by Yann Lecun and is considered to be the \"hello world\" of datasets for deep learning. \n",
    "\n",
    "MNIST consists of 28x28 pixel images of hand written digis.\n",
    "\n",
    "<center> <img src=\"img/mnist.png\" width=\"300\"/>  </center>\n",
    "\n",
    "<br/>\n",
    "\n",
    "We are going to create a feed forward neural network to classify the digits. This will be a simple network composed of linear layers and activations."
   ]
  },
  {
   "cell_type": "code",
   "execution_count": null,
   "metadata": {},
   "outputs": [],
   "source": [
    "import torch\n",
    "import torchvision\n",
    "\n",
    "import matplotlib.pyplot as plt\n",
    "%matplotlib inline\n",
    "\n",
    "import time"
   ]
  },
  {
   "cell_type": "markdown",
   "metadata": {},
   "source": [
    "## Create Transforms\n",
    "\n",
    "When we get the dataset, we will be given tuples that look like:\n",
    "\n",
    "        (PIL image, label)\n",
    "\n",
    "We will need to apply a transform to each image loaded to convert it to a tensor. This can be done using a library included with Pytorch called TorchVision. This library contains datasets, helper functions, transforms, and even whole neural networks that can all be loaded easily.\n",
    "\n",
    "We will use the transform `ToTensor()` which will convert each image to a tensor that we can use in our model. There are lots of other transforms that we have access to such as rotating or flipping images.\n",
    "\n",
    "The `Compose` method is how you string several transforms together. They will be executed in the order they are put in the list."
   ]
  },
  {
   "cell_type": "code",
   "execution_count": null,
   "metadata": {},
   "outputs": [],
   "source": [
    "xforms = torchvision.transforms.Compose([torchvision.transforms.ToTensor()])  # Try with no normalization for now"
   ]
  },
  {
   "cell_type": "markdown",
   "metadata": {},
   "source": [
    "Torchvision has several datasets builtin. These functions make it easy to download and create a dataset from these commonly used datasets."
   ]
  },
  {
   "cell_type": "code",
   "execution_count": null,
   "metadata": {},
   "outputs": [],
   "source": [
    "train_data = torchvision.datasets.MNIST(root='./data', train=True, download=True, transform=xforms)\n",
    "test_data = torchvision.datasets.MNIST(root='./data', train=False, download=True, transform=xforms)"
   ]
  },
  {
   "cell_type": "markdown",
   "metadata": {},
   "source": [
    "Now that the datasets are created we use them to instantiate the dataloader. A dataloader is a feature of pytorch that allows you to easily batch and loop over datasets. These can be cusomized by simply writing your own dataset class and feeding it to the dataloader. \n",
    "\n",
    "Dataloaders allow you to control the batch size, number of threads for loading, shuffling, collating and more."
   ]
  },
  {
   "cell_type": "code",
   "execution_count": null,
   "metadata": {},
   "outputs": [],
   "source": [
    "batch_size=64\n",
    "train_loader = torch.utils.data.DataLoader(train_data,\n",
    "                                          batch_size=batch_size,\n",
    "                                          shuffle=True)\n",
    "test_loader = torch.utils.data.DataLoader(test_data,\n",
    "                                          batch_size=batch_size,\n",
    "                                          shuffle=True)"
   ]
  },
  {
   "cell_type": "markdown",
   "metadata": {},
   "source": [
    "## Lets take a look at the data\n",
    "\n",
    "Pytorch data loaders are a convenient way to get tensors into your model with very little manual work. Custom datasets are very easy to define if you are using data that doesnt fit well into one of the predefined classes.\n",
    "\n",
    "The dataloaders defined above work just like an iterator. We can get an item from it by calling `next(iter(loader))`. When accessing all of the data we simply have to loop over the dataloader `for data, label in dataloader:`.\n",
    "\n",
    "Lets take a look at how the dataloader returns data to us. For the MNIST dataset (and most imagery data) it returns a tuple where the first element is a  tensor with the shape [batch, channels, height, width], and the second element is the label (in this case an integer)."
   ]
  },
  {
   "cell_type": "code",
   "execution_count": null,
   "metadata": {},
   "outputs": [],
   "source": [
    "d = next(iter(train_loader))\n",
    "print(d[0].shape) # the data\n",
    "print(d[1].shape) # the labels"
   ]
  },
  {
   "cell_type": "code",
   "execution_count": null,
   "metadata": {},
   "outputs": [],
   "source": [
    "d[1]"
   ]
  },
  {
   "cell_type": "code",
   "execution_count": null,
   "metadata": {},
   "outputs": [],
   "source": [
    "plt.imshow(d[0][0].squeeze().numpy())"
   ]
  },
  {
   "cell_type": "markdown",
   "metadata": {},
   "source": [
    "## Defining our Classification Model"
   ]
  },
  {
   "cell_type": "code",
   "execution_count": null,
   "metadata": {},
   "outputs": [],
   "source": [
    "class Net(torch.nn.Module):\n",
    "    def __init__(self):\n",
    "        super(Net, self).__init__()\n",
    "        \n",
    "        self.layers = torch.nn.Sequential(\n",
    "                            torch.nn.Linear(in_features=784, out_features=128),\n",
    "                            torch.nn.ReLU(),\n",
    "                            torch.nn.Linear(in_features=128, out_features=64),\n",
    "                            torch.nn.ReLU(),\n",
    "                            torch.nn.Linear(in_features=64, out_features=10),\n",
    "                            torch.nn.Softmax(dim=1)\n",
    "                        )\n",
    "    \n",
    "    def forward(self, x):\n",
    "        return self.layers(x)"
   ]
  },
  {
   "cell_type": "markdown",
   "metadata": {},
   "source": [
    "## Quiz\n",
    "\n",
    " 1. Why is the input size 784?\n",
    " 2. Why is the output size 10?\n",
    " 3. Why are we using Softmax on the last layer instead of ReLU?"
   ]
  },
  {
   "cell_type": "code",
   "execution_count": null,
   "metadata": {},
   "outputs": [],
   "source": [
    "model = Net()"
   ]
  },
  {
   "cell_type": "markdown",
   "metadata": {},
   "source": [
    "## Setup the Optimizer\n",
    "\n",
    "We will be using the Adam optimizer."
   ]
  },
  {
   "cell_type": "code",
   "execution_count": null,
   "metadata": {},
   "outputs": [],
   "source": [
    "optimizer = torch.optim.Adam(model.parameters(), lr=0.003)"
   ]
  },
  {
   "cell_type": "markdown",
   "metadata": {},
   "source": [
    "## Setup the Loss function\n",
    "\n",
    "For classification problems in general you will use the cross entropy loss."
   ]
  },
  {
   "cell_type": "code",
   "execution_count": null,
   "metadata": {},
   "outputs": [],
   "source": [
    "criterion = torch.nn.CrossEntropyLoss()"
   ]
  },
  {
   "cell_type": "markdown",
   "metadata": {},
   "source": [
    "## Run the training loop"
   ]
  },
  {
   "cell_type": "code",
   "execution_count": null,
   "metadata": {},
   "outputs": [],
   "source": [
    "epochs = 15\n",
    "loss_history = []\n",
    "for epoch in range(epochs):\n",
    "    epoch_loss = 0\n",
    "    epoch_time = time.time()\n",
    "    for data, labels in train_loader:\n",
    "        # Flatten the tensors to go from 28x28 -> 784\n",
    "        flat_data = data.view(data.shape[0], -1)\n",
    "        \n",
    "        optimizer.zero_grad()\n",
    "        pred = model(flat_data)\n",
    "        loss = criterion(pred, labels)\n",
    "        loss.backward()\n",
    "        optimizer.step()\n",
    "        epoch_loss += loss.item()\n",
    "    loss_history.append(epoch_loss/len(train_loader))    \n",
    "    print(f\"Epoch {epoch} | {time.time()-epoch_time:.2f} s - loss: {epoch_loss/len(train_loader)}\")"
   ]
  },
  {
   "cell_type": "code",
   "execution_count": null,
   "metadata": {},
   "outputs": [],
   "source": [
    "plt.plot(loss_history)"
   ]
  },
  {
   "cell_type": "code",
   "execution_count": null,
   "metadata": {},
   "outputs": [],
   "source": [
    "correct_count = 0\n",
    "model.eval()\n",
    "with torch.no_grad():\n",
    "    for data, label in test_loader:\n",
    "        flat_data = data.view(data.shape[0], -1)\n",
    "        output = model(flat_data)\n",
    "        \n",
    "        pred = output.argmax(dim=1, keepdim=True)\n",
    "        correct_count += pred.eq(label.view_as(pred)).sum().item()\n",
    "        \n",
    "print(f\"Correct/Total: {correct_count}/{len(test_loader.dataset)}\")\n",
    "print(f\"Accuracy: {correct_count/len(test_loader.dataset):.4f}\")"
   ]
  },
  {
   "cell_type": "markdown",
   "metadata": {},
   "source": [
    "## Untrained Model\n",
    "\n",
    "Lets take a look at how the model does if we dont train it. Lets create a new model and run it on the validation set.\n",
    "\n",
    "### BEFORE YOU RUN\n",
    "\n",
    "### What do you expect the accuracy of the model to be?\n",
    "Hint: How many classes are there? "
   ]
  },
  {
   "cell_type": "code",
   "execution_count": null,
   "metadata": {},
   "outputs": [],
   "source": [
    "untrained = Net()"
   ]
  },
  {
   "cell_type": "code",
   "execution_count": null,
   "metadata": {},
   "outputs": [],
   "source": [
    "correct_count = 0\n",
    "model.eval()\n",
    "with torch.no_grad():\n",
    "    for data, label in test_loader:\n",
    "        flat_data = data.view(data.shape[0], -1)\n",
    "        output = model(flat_data)\n",
    "        \n",
    "        pred = output.argmax(dim=1, keepdim=True)\n",
    "        correct_count += pred.eq(label.view_as(pred)).sum().item()\n",
    "        \n",
    "print(f\"Correct/Total: {correct_count}/{len(test_loader.dataset)}\")\n",
    "print(f\"Accuracy: {correct_count/len(test_loader.dataset):.4f}\")"
   ]
  }
 ],
 "metadata": {
  "kernelspec": {
   "display_name": "Python 3",
   "language": "python",
   "name": "python3"
  },
  "language_info": {
   "codemirror_mode": {
    "name": "ipython",
    "version": 3
   },
   "file_extension": ".py",
   "mimetype": "text/x-python",
   "name": "python",
   "nbconvert_exporter": "python",
   "pygments_lexer": "ipython3",
   "version": "3.7.4"
  }
 },
 "nbformat": 4,
 "nbformat_minor": 4
}
