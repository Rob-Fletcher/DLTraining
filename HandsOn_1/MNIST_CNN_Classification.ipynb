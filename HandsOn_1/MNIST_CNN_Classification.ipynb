{
 "cells": [
  {
   "cell_type": "code",
   "execution_count": 1,
   "metadata": {},
   "outputs": [],
   "source": [
    "import torch, torchvision\n",
    "from tqdm import tqdm"
   ]
  },
  {
   "cell_type": "code",
   "execution_count": 2,
   "metadata": {},
   "outputs": [],
   "source": [
    "class ConvNet(torch.nn.Module):\n",
    "    def __init__(self):\n",
    "        super(ConvNet, self).__init__()\n",
    "        \n",
    "        self.conv_layers = torch.nn.Sequential(\n",
    "            torch.nn.Conv2d(in_channels=1, out_channels=20, kernel_size=3, stride=1, padding=1),\n",
    "            torch.nn.ReLU(),\n",
    "            torch.nn.MaxPool2d(kernel_size=2, stride=2),\n",
    "            torch.nn.Conv2d(in_channels=20, out_channels=40, kernel_size=3, stride=1, padding=1),\n",
    "            torch.nn.ReLU(),\n",
    "            torch.nn.MaxPool2d(kernel_size=2, stride=2)\n",
    "        )\n",
    "        self.lin_layers = torch.nn.Sequential(\n",
    "            torch.nn.Linear(in_features=40*7*7, out_features=32),\n",
    "            torch.nn.ReLU(),\n",
    "            torch.nn.Linear(in_features=32, out_features=10),\n",
    "            torch.nn.Softmax(dim=1)\n",
    "        )\n",
    "        \n",
    "    def forward(self, x):\n",
    "        x = self.conv_layers(x)\n",
    "        x = x.view(-1, 40*7*7)\n",
    "        x = self.lin_layers(x)\n",
    "        return x"
   ]
  },
  {
   "cell_type": "code",
   "execution_count": 3,
   "metadata": {},
   "outputs": [],
   "source": [
    "model = ConvNet()\n",
    "optimizer = torch.optim.Adam(model.parameters(), lr=0.003)\n",
    "criterion = torch.nn.CrossEntropyLoss()"
   ]
  },
  {
   "cell_type": "code",
   "execution_count": 4,
   "metadata": {},
   "outputs": [],
   "source": [
    "xforms = torchvision.transforms.Compose([torchvision.transforms.ToTensor()])  # Try with no normalization for now\n",
    "train_data = torchvision.datasets.MNIST(root='./data', train=True, download=True, transform=xforms)\n",
    "test_data = torchvision.datasets.MNIST(root='./data', train=False, download=True, transform=xforms)\n",
    "batch_size=64\n",
    "train_loader = torch.utils.data.DataLoader(train_data,\n",
    "                                          batch_size=batch_size,\n",
    "                                          shuffle=True)\n",
    "test_loader = torch.utils.data.DataLoader(test_data,\n",
    "                                          batch_size=batch_size,\n",
    "                                          shuffle=True)"
   ]
  },
  {
   "cell_type": "code",
   "execution_count": 9,
   "metadata": {},
   "outputs": [],
   "source": [
    "from torch.utils.tensorboard import SummaryWriter\n",
    "writer = SummaryWriter()\n",
    "images, labels = next(iter(train_loader))\n",
    "grid = torchvision.utils.make_grid(images)\n",
    "writer.add_image('images', grid, 0)"
   ]
  },
  {
   "cell_type": "code",
   "execution_count": 10,
   "metadata": {},
   "outputs": [
    {
     "name": "stderr",
     "output_type": "stream",
     "text": [
      "\n",
      "  0%|          | 0/15 [00:00<?, ?it/s]\u001b[A\n",
      "  7%|▋         | 1/15 [00:44<10:19, 44.24s/it]\u001b[A\n",
      " 13%|█▎        | 2/15 [01:28<09:33, 44.15s/it]\u001b[A\n",
      " 20%|██        | 3/15 [02:12<08:49, 44.11s/it]\u001b[A\n",
      " 27%|██▋       | 4/15 [02:56<08:05, 44.16s/it]\u001b[A\n",
      " 33%|███▎      | 5/15 [03:40<07:20, 44.08s/it]\u001b[A\n",
      " 40%|████      | 6/15 [04:24<06:37, 44.12s/it]\u001b[A\n",
      " 47%|████▋     | 7/15 [05:07<05:49, 43.68s/it]\u001b[A\n",
      " 53%|█████▎    | 8/15 [05:49<05:03, 43.38s/it]\u001b[A\n",
      " 60%|██████    | 9/15 [06:33<04:20, 43.48s/it]\u001b[A\n",
      " 67%|██████▋   | 10/15 [07:16<03:35, 43.18s/it]\u001b[A\n",
      " 73%|███████▎  | 11/15 [07:59<02:52, 43.12s/it]\u001b[A\n",
      " 80%|████████  | 12/15 [08:41<02:08, 42.98s/it]\u001b[A\n",
      " 87%|████████▋ | 13/15 [09:24<01:26, 43.04s/it]\u001b[A\n",
      " 93%|█████████▎| 14/15 [10:07<00:42, 42.99s/it]\u001b[A\n",
      "100%|██████████| 15/15 [10:49<00:00, 42.48s/it]\u001b[A"
     ]
    }
   ],
   "source": [
    "epochs = 15\n",
    "loss_history = []\n",
    "for epoch in tqdm(range(epochs)):\n",
    "    epoch_loss = 0\n",
    "    val_loss = 0\n",
    "    for data, labels in train_loader:\n",
    "\n",
    "        optimizer.zero_grad()\n",
    "        output = model(data)\n",
    "        loss = criterion(output, labels)\n",
    "        loss.backward()\n",
    "        optimizer.step()\n",
    "        epoch_loss += loss.item()\n",
    "\n",
    "    writer.add_scalar(tag=\"loss\", scalar_value=epoch_loss/len(train_loader), global_step=epoch)\n",
    "    \n",
    "writer.close()"
   ]
  },
  {
   "cell_type": "code",
   "execution_count": 7,
   "metadata": {},
   "outputs": [
    {
     "name": "stdout",
     "output_type": "stream",
     "text": [
      "Correct/Total: 9860/10000\n",
      "Accuracy: 0.9860\n"
     ]
    }
   ],
   "source": [
    "correct_count = 0\n",
    "model.eval()\n",
    "with torch.no_grad():\n",
    "    for image, label in test_loader:\n",
    "        output = model(image)\n",
    "        \n",
    "        pred = output.argmax(dim=1, keepdim=True)\n",
    "        correct_count += pred.eq(label.view_as(pred)).sum().item()\n",
    "        \n",
    "print(f\"Correct/Total: {correct_count}/{len(test_loader.dataset)}\")\n",
    "print(f\"Accuracy: {correct_count/len(test_loader.dataset):.4f}\")"
   ]
  },
  {
   "cell_type": "code",
   "execution_count": null,
   "metadata": {},
   "outputs": [],
   "source": []
  },
  {
   "cell_type": "code",
   "execution_count": null,
   "metadata": {},
   "outputs": [],
   "source": []
  }
 ],
 "metadata": {
  "kernelspec": {
   "display_name": "Python 3",
   "language": "python",
   "name": "python3"
  },
  "language_info": {
   "codemirror_mode": {
    "name": "ipython",
    "version": 3
   },
   "file_extension": ".py",
   "mimetype": "text/x-python",
   "name": "python",
   "nbconvert_exporter": "python",
   "pygments_lexer": "ipython3",
   "version": "3.8.5"
  }
 },
 "nbformat": 4,
 "nbformat_minor": 4
}
